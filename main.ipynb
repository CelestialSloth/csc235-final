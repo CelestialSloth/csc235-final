{
 "cells": [
  {
   "cell_type": "code",
   "execution_count": 1,
   "metadata": {},
   "outputs": [
    {
     "name": "stderr",
     "output_type": "stream",
     "text": [
      "/Users/elainedemetrion/Development/csc235/final/.venv/lib/python3.9/site-packages/urllib3/__init__.py:35: NotOpenSSLWarning: urllib3 v2 only supports OpenSSL 1.1.1+, currently the 'ssl' module is compiled with 'LibreSSL 2.8.3'. See: https://github.com/urllib3/urllib3/issues/3020\n",
      "  warnings.warn(\n"
     ]
    }
   ],
   "source": [
    "import pandas as pd\n",
    "import plotly.express as px\n",
    "import plotly.graph_objects as go\n",
    "from dash import Dash\n",
    "from dash import dcc\n",
    "from dash import html\n",
    "from dash.dependencies import Input, Output"
   ]
  },
  {
   "cell_type": "markdown",
   "metadata": {},
   "source": [
    "Todo:\n",
    "1. Dropdown menu\n",
    "2. Borough bar chart (req 1)\n",
    "3. Neighborhood bar chart (req 1,2)\n",
    "4. Map of NYC (req 1, 2*/3*)\n",
    "5. Scatterplots (req 1, 2*/3*)"
   ]
  },
  {
   "cell_type": "code",
   "execution_count": 42,
   "metadata": {},
   "outputs": [],
   "source": [
    "# load in the data csv files\n",
    "tree_df = pd.read_csv('./final_data/trees_sample.csv')\n",
    "borough_df = pd.read_csv('./final_data/boroughs_sample.csv')\n",
    "neighborhood_df = pd.read_csv('./final_data/neighborhoods_sample.csv')"
   ]
  },
  {
   "cell_type": "code",
   "execution_count": 13,
   "metadata": {},
   "outputs": [],
   "source": [
    "# make the borough graph\n",
    "fig = px.bar(x=borough_df[\"Borough\"], y=borough_df[\"Number of Trees\"])\n",
    "borough_bar = go.Figure(data=fig)"
   ]
  },
  {
   "cell_type": "code",
   "execution_count": 14,
   "metadata": {},
   "outputs": [],
   "source": [
    "# make the neighborhood graph\n",
    "fig = px.bar(x=neighborhood_df[\"UHF34 Name\"], y=neighborhood_df[\"Number of Trees\"])\n",
    "neighborhood_bar = go.Figure(data=fig)"
   ]
  },
  {
   "cell_type": "code",
   "execution_count": null,
   "metadata": {},
   "outputs": [],
   "source": [
    "# TODO: make the map ???"
   ]
  },
  {
   "cell_type": "code",
   "execution_count": 31,
   "metadata": {},
   "outputs": [],
   "source": [
    "# make the scatterplots\n",
    "fig1 = px.scatter(x=neighborhood_df[\"Number of Trees\"], y=neighborhood_df[\"Average Fine Particle\"])\n",
    "fig2 = px.scatter(x=neighborhood_df[\"Number of Trees\"], y=neighborhood_df[\"Average Diameter\"])\n",
    "fig3 = px.scatter(x=neighborhood_df[\"Number of Trees\"], y=neighborhood_df[\"Average Temperature\"])\n",
    "metric1_scatter = go.Figure(data=fig1)\n",
    "metric2_scatter = go.Figure(data=fig2)\n",
    "metric3_scatter = go.Figure(data=fig3)"
   ]
  },
  {
   "cell_type": "code",
   "execution_count": null,
   "metadata": {},
   "outputs": [
    {
     "data": {
      "text/html": [
       "\n",
       "        <iframe\n",
       "            width=\"100%\"\n",
       "            height=\"650\"\n",
       "            src=\"http://127.0.0.1:8050/\"\n",
       "            frameborder=\"0\"\n",
       "            allowfullscreen\n",
       "            \n",
       "        ></iframe>\n",
       "        "
      ],
      "text/plain": [
       "<IPython.lib.display.IFrame at 0x1686b5460>"
      ]
     },
     "metadata": {},
     "output_type": "display_data"
    }
   ],
   "source": [
    "app = Dash(__name__) # TODO: add stylesheet\n",
    "app.layout = html.Div([\n",
    "    dcc.Dropdown(\n",
    "        ['Number of Trees', 'Average Status', 'Average Diameter', 'Average Fine Particle Pollution', 'Average Ozone Pollution', 'Average Summer Surface Temperature'],\n",
    "        'Number of Trees',\n",
    "        id='metric-dropdown'\n",
    "    ),\n",
    "    dcc.Graph(id='borough-bar', figure=borough_bar),\n",
    "    dcc.Graph(id='neighborhood-bar', figure=neighborhood_bar),\n",
    "    # TODO: insert map\n",
    "    html.Div([\n",
    "            dcc.Graph(id='metric1-scatter', figure=metric1_scatter),\n",
    "            dcc.Graph(id='metric2-scatter', figure=metric2_scatter),\n",
    "            dcc.Graph(id='metric3-scatter', figure=metric3_scatter)\n",
    "        ],\n",
    "        id='scatter-div'\n",
    "    )\n",
    "])\n",
    "\n",
    "# metric-dropdown to borough-bar: \n",
    "# * generate new borough bar graph based on chosen metric\n",
    "# * sort new borough bar graph by amount of metric per borough\n",
    "@app.callback(\n",
    "    Output(\"borough-bar\", \"figure\"),\n",
    "    Input(\"metric-dropdown\", \"value\"),\n",
    ")\n",
    "def update_boroughbar_from_metricdropdown(chosen_metric):\n",
    "    fig = px.bar(x=borough_df[\"Borough\"], y=borough_df[chosen_metric], title=f'{chosen_metric} by Borough')\n",
    "    fig.update_xaxes(title=\"Borough\")\n",
    "    fig.update_yaxes(title=chosen_metric)\n",
    "    fig.update_layout(xaxis={'categoryorder':'total descending'})\n",
    "    borough_bar = go.Figure(data=fig)\n",
    "    return borough_bar\n",
    "    \n",
    "\n",
    "# metric-dropdown to neighborhood-bar\n",
    "# * generate new neighborhood bar graph based on chosen metric\n",
    "# * sort new neighborhood bar graph by amount of metric per borough\n",
    "# * must keep in mind if there is a borough selected---then filtering is needed. but if not, do not filter by borough\n",
    "@app.callback(\n",
    "    Output(\"neighborhood-bar\", \"figure\"),\n",
    "    Input(\"metric-dropdown\", \"value\"),\n",
    ")\n",
    "def update_neighborhoodbar_from_metricdropdown(chosen_metric):\n",
    "    neighborhood_df_filtered = neighborhood_df\n",
    "    # TODO: if borough is selected, filter neighborhood_df_filtered by borough\n",
    "    fig = px.bar(x=neighborhood_df_filtered[\"UHF34 Name\"], y=neighborhood_df_filtered[chosen_metric], title=f'{chosen_metric} by Neighborhood')\n",
    "    fig.update_xaxes(title=\"Neighborhood\")\n",
    "    fig.update_yaxes(title=chosen_metric)\n",
    "    fig.update_layout(xaxis={'categoryorder':'total descending'})\n",
    "    borough_bar = go.Figure(data=fig)\n",
    "    return borough_bar\n",
    "\n",
    "# metric-dropdown to map\n",
    "# * switch map coloring based on the chosen metric\n",
    "# * Keep in mind if we are zoomed into a neighborhood or not (perhaps there's a way to change the map coloring without redrawing the whole map?)\n",
    "\n",
    "# metric-dropdown to metric1-scatter\n",
    "# * switch graph axes and data presented based on the chosen metric\n",
    "# * keep in mind whether we need to highlight a single neighborhood or a borough\n",
    "\n",
    "# metric-dropdown to metric2-scatter\n",
    "# * switch graph axes and data presented based on the chosen metric\n",
    "# * keep in mind whether we need to highlight a single neighborhood or a borough\n",
    "\n",
    "\n",
    "# metric-dropdown to metric3-scatter\n",
    "# * switch graph axes and data presented based on the chosen metric\n",
    "# * keep in mind whether we need to highlight a single neighborhood or a borough\n",
    "\n",
    "# borough-bar to neighborhood-bar\n",
    "# * deselect neighborhood, if selected\n",
    "# * filter neighborhoods based on chosen borough\n",
    "\n",
    "# borough-bar to map\n",
    "# * zoom into chosen borough\n",
    "\n",
    "# borough-bar to metric1-scatter\n",
    "# * highlight all points in the borough\n",
    "\n",
    "# borough-bar to metric2-scatter\n",
    "# * highlight all points in the borough\n",
    "\n",
    "# borough-bar to metric3-scatter\n",
    "# * highlight all points in the borough\n",
    "\n",
    "# neighborhood-bar to map\n",
    "# * zoom into neighborhood\n",
    "# * show tree locations as points?\n",
    "# * ability to click on point and have tooltip appear with tree info\n",
    "\n",
    "# neighborhood-bar to metric1-scatter\n",
    "# * highlight the singular point representing the neighborhood\n",
    "\n",
    "# neighborhood-bar to metric2-scatter\n",
    "# * highlight the singular point representing the neighborhood\n",
    "\n",
    "# neighborhood-bar to metric3-scatter\n",
    "# * highlight the singular point representing the neighborhood\n",
    "\n",
    "# borough-deselect to borough-bar\n",
    "# * stop highlighting boroughs on the bar chart\n",
    "\n",
    "# borough-deslect to neighborhood-bar\n",
    "# * stop filtering the neighborhoods\n",
    "# * stop highlighting neighborhoods, if highlighted\n",
    "\n",
    "# borough-deselect to map\n",
    "# * zoom out from borough\n",
    "\n",
    "# borough-deselect to metric1-scatter\n",
    "# * stop highlighting points\n",
    "\n",
    "# borough-deselect to metric2-scatter\n",
    "# * stop highlighting points\n",
    "\n",
    "# borough-deselect to metric3-scatter\n",
    "# * stop highlighting points\n",
    "\n",
    "# neighborhood-deselect to map\n",
    "# * zoom out to borough (or to whole NYC map, if borough is not selected)\n",
    "# * stop showing individual trees\n",
    "\n",
    "# neighborhood-deselect to metric1-scatter\n",
    "# * stop highlighting the neighborhood, start highlighting the whole borough (or nothing if no borough selected)\n",
    "\n",
    "# neighborhood-deselect to metric2-scatter\n",
    "# * stop highlighting the neighborhood, start highlighting the whole borough (or nothing if no borough selected)\n",
    "\n",
    "# neighborhood-deselect to metric3-scatter\n",
    "# * stop highlighting the neighborhood, start highlighting the whole borough (or nothing if no borough selected)\n",
    "\n",
    "if __name__ == '__main__':\n",
    "    app.run_server(debug=True)"
   ]
  }
 ],
 "metadata": {
  "kernelspec": {
   "display_name": ".venv",
   "language": "python",
   "name": "python3"
  },
  "language_info": {
   "codemirror_mode": {
    "name": "ipython",
    "version": 3
   },
   "file_extension": ".py",
   "mimetype": "text/x-python",
   "name": "python",
   "nbconvert_exporter": "python",
   "pygments_lexer": "ipython3",
   "version": "3.9.6"
  }
 },
 "nbformat": 4,
 "nbformat_minor": 2
}
